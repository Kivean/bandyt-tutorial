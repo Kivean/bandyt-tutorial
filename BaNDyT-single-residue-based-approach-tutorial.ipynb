{
 "cells": [
  {
   "cell_type": "markdown",
   "id": "e84301a3-fabe-43de-a527-d84e35d5f35b",
   "metadata": {},
   "source": [
    "# Tutorial for BaNDyT: Bayesian Network Analysis of Dynamic Trajectories\n",
    "\n",
    "In this tutorial, we will use BaNDyT package to explore probabilistic relationship between residues of interferon induced transmembrane protein 3 (IFITM3) and identify functionally important residues.\n",
    "\n",
    "**Step 1** Using MD package of choice (for example, *Gromacs*), we calculated interaction energy of each residue with its surroundings. All measurements were combined in the csv file *ifitm3.csv*, where each column corresponds to the residue and each row is the frame of the trajectory (excerpt from the file is shown in Table 1)\n",
    "\n",
    "| R10       | R11       | R12       |\n",
    "|-----------|-----------|-----------|\n",
    "| -456.262  | -462.787  | -432.281  |\n",
    "| -441.219  | -467.503  | -443.350  |\n",
    "| -478.927  | -496.202  | -457.204  |\n",
    "| -489.087  | -498.819  | -445.036  |\n",
    "| -494.550  | -521.253  | -433.522  |\n",
    "\n",
    "**Table 1**. Example of BaNDyT input dataset based on interaction energy of IFITM3.\n",
    "Upon obtaining the MD simulations data we are interested in, we will start its processing using BaNDyT package. To use it locally, define the location of BaNDyT package following way:"
   ]
  },
  {
   "cell_type": "code",
   "execution_count": null,
   "id": "77518107-75e1-461a-8412-074af356f067",
   "metadata": {},
   "outputs": [],
   "source": [
    "import sys\n",
    "\n",
    "# put your path here\n",
    "bandyt = '/path/to/BaNDyT/directory'"
   ]
  },
  {
   "cell_type": "markdown",
   "id": "bd008fda-b8af-464a-8a0a-b234c737b4fa",
   "metadata": {},
   "source": [
    "**Step 2** involves loading the input data. The loader function will detect whether the dataset is discretized or not. In the case of continuous data, it will use maximum entropy algorithm to discretize it into 8 bins as default."
   ]
  },
  {
   "cell_type": "code",
   "execution_count": null,
   "id": "959603fa-39ef-4324-8ae1-4588a6045523",
   "metadata": {},
   "outputs": [],
   "source": [
    "import bandyt\n",
    "\n",
    "dt=bandyt.read_input_file('ifitm3.csv')"
   ]
  },
  {
   "cell_type": "markdown",
   "id": "5ef7ccee-a836-45b6-a614-d06a4606563e",
   "metadata": {},
   "source": [
    "**Step 3** is initializing the search of starting Baesian Network. The function *bandyt.search* uses MU scoring function as a default. If you have the C version of BaNDyT package compiled, you can use change the soring function to *bandyt.cmu* to make calculation faster."
   ]
  },
  {
   "cell_type": "code",
   "execution_count": null,
   "id": "acef2543-cd3a-4e7b-b6b8-c8929ce7a2a3",
   "metadata": {},
   "outputs": [],
   "source": [
    "# change to srch = bnomics.search(dt,ofunc=bandyt.cmu) if C package is compiled\n",
    "srch = bnomics.search(dt)"
   ]
  },
  {
   "cell_type": "markdown",
   "id": "36c7a1ae-fa57-4180-b89c-afb7b53c0d37",
   "metadata": {},
   "source": [
    "**Step 4** is performing the recursive search of optimal Bayesian Network topology. We recommend doing at least 50 restarts to ensure network convergence."
   ]
  },
  {
   "cell_type": "code",
   "execution_count": null,
   "id": "1f97a320-93b9-402a-963d-e0bb4b04d43f",
   "metadata": {},
   "outputs": [],
   "source": [
    "srch.restarts(nrestarts=50)"
   ]
  },
  {
   "cell_type": "markdown",
   "id": "f430fb6b-3548-4aeb-965e-22ac80970d1d",
   "metadata": {},
   "source": [
    "**Step 5** is saving the final topology as a dot and pickle file for future analysis and vizualization."
   ]
  },
  {
   "cell_type": "code",
   "execution_count": null,
   "id": "16456d97-39dc-4e7b-9870-a93580ef7a2c",
   "metadata": {},
   "outputs": [],
   "source": [
    "srch.dot(path='ifitm3')\n",
    "bandyt.convert_bn_to_igraph(srch,fout=\"ifitm3.pickle\",format=\"pickle\")"
   ]
  },
  {
   "cell_type": "markdown",
   "id": "e7c5cd2b-96f1-41b2-b2b5-61128603ba33",
   "metadata": {},
   "source": [
    "**Step 6** is generating the output csv file with weighted degrees of each residue and Graphml object that can be used to vizualize Bayesian network graph in the network vizualization software (for example, *Cytoscape*). Example of network vizualization is shown on Figure 1."
   ]
  },
  {
   "cell_type": "code",
   "execution_count": null,
   "id": "13e9088e-25f4-4272-b8cf-5e8685a6668a",
   "metadata": {},
   "outputs": [],
   "source": [
    "bandyt.getGraphProp('ifitm3.pickle', 'ifitm3')"
   ]
  },
  {
   "cell_type": "markdown",
   "id": "a1b0486e-d577-4d87-bde5-7338963d5ee6",
   "metadata": {},
   "source": [
    "<div style=\"text-align: center;\">\n",
    "    <img src=\"figures/G_ifitm3.png\" alt=\"IFITM3 graph\" width=\"500\">\n",
    "</div>\n",
    "\n",
    "**Figure 1.** Bayesian Network Graph of probabilistic relationship between IFITM3 residues. Figure was generated using Cytoscape 3.10.2. Node size and color is proportionate to weighted degree, arrow thickness and color is proportionate to edge weight. Graph is shown in edge-weighted spring embedded layout (based on a force-directed paradigm as implemented by Kamada and Kawai (1988)).\n"
   ]
  }
 ],
 "metadata": {
  "kernelspec": {
   "display_name": "Python 3 (ipykernel)",
   "language": "python",
   "name": "python3"
  },
  "language_info": {
   "codemirror_mode": {
    "name": "ipython",
    "version": 3
   },
   "file_extension": ".py",
   "mimetype": "text/x-python",
   "name": "python",
   "nbconvert_exporter": "python",
   "pygments_lexer": "ipython3",
   "version": "3.11.7"
  }
 },
 "nbformat": 4,
 "nbformat_minor": 5
}
